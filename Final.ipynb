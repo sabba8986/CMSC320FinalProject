{
 "cells": [
  {
   "cell_type": "markdown",
   "id": "fe73537b-4b4d-43be-a31f-e959047444d5",
   "metadata": {},
   "source": [
    "# Summary of Mortality Rates for various Medical Procedures in Californian Hospitals\n",
    "\n",
    "Spring 2025 Data Science Project\n",
    "\n",
    "Franciszek Pajak, Aashrit Sabbani, Achyutha Duddebanda\n",
    "\n",
    "Contributions:\n",
    "For each member, list which of the following sections they worked on, and\n",
    "summarize the contributions in 1-2 sentences. Be specific!\n",
    "\n",
    "\n",
    "## Introduction\n",
    "Each year in the United States, over 50 million surgical procedures are conducted to treat a variety of diseases, ranging from stroke to heart disease. Many of these diseases are fatal if left alone — note that heart disease causes approximately 1 out of 5 deaths in the United States each year. Therefore, focusing on improving the success of these surgical procedures is critical for improving social welfare and overall Quality of Life. \n",
    "\n",
    "A significant factor that characterizes the success of a particular surgery is its **mortality rate**, or how many deaths it causes each year on average. In general, hospitals have an incentive to minimize mortality rates as much as possible, not only to reduce patient death rates but to increase their own **quality rating** (a qualitative assessment of the services the hospital provides, including surgery) and attract more patients into their network. Hence, understanding trends (over time) in mortality rates and quality ratings for specific surgical procedures in hospitals is crucial for the medical industry (to learn where to focus efforts in reducing death rates) and for hospitals (to know which procedures might require targeted improvement, which will increase their quality rating). \n",
    "\n",
    "In this tutorial, we attempt to address these themes. We specifically analyze hospitals in the state of California -- being the most populous, (one of the) largest, and the state in the U.S. which conducts the most surgical procedures, California serves as a representative sample which might hint to overall surgical and hospital trends in the United States as a whole. \n",
    "\n",
    "We would like to answer, to the best extent, the following questions:\n",
    "1. Does geographical location affect the quality rating for a hospital or mortality rate for a specific procedure? \n",
    "2. Do certain procedures have higher mortality rates than other procedures? Is this true across all hospitals? Do different hospitals show different success rates for procedures?\n",
    "3. Have mortality rates for a specific procedure decreased over time? What are the general trends for the procedure success rate across all hospitals, or a specific hospital?\n",
    "\n",
    "Along the way, we will explain the steps we took in the data science life cycle, and the steps necessary to performing successful data analysis.\n",
    "\n",
    "## Data Curation\n",
    "\n",
    "\n",
    "\n",
    "\n",
    "\n",
    "A: Project idea\n",
    "\n",
    "B: Dataset Curation and Preprocessing\n",
    "\n",
    "C: Data Exploration and Summary Statistics\n",
    "\n",
    "D: ML Algorithm Design/Development\n",
    "\n",
    "E: ML Algorithm Training and Test Data Analysis\n",
    "\n",
    "F: Visualization, Result Analysis, Conclusion\n",
    "\n",
    "G: Final Tutorial Report Creation\n",
    "\n",
    "H: Additional (not listed above)"
   ]
  },
  {
   "cell_type": "code",
   "execution_count": null,
   "id": "a5a17302-cacb-4ea7-abf0-f7f1327a0fbb",
   "metadata": {},
   "outputs": [],
   "source": []
  },
  {
   "cell_type": "code",
   "execution_count": null,
   "id": "1ee260ad-28e7-4edb-bb79-772aa1709bb2",
   "metadata": {},
   "outputs": [],
   "source": []
  }
 ],
 "metadata": {
  "kernelspec": {
   "display_name": "Python 3 (ipykernel)",
   "language": "python",
   "name": "python3"
  },
  "language_info": {
   "codemirror_mode": {
    "name": "ipython",
    "version": 3
   },
   "file_extension": ".py",
   "mimetype": "text/x-python",
   "name": "python",
   "nbconvert_exporter": "python",
   "pygments_lexer": "ipython3",
   "version": "3.10.12"
  }
 },
 "nbformat": 4,
 "nbformat_minor": 5
}
