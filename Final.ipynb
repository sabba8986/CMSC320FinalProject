{
 "cells": [
  {
   "cell_type": "markdown",
   "id": "fe73537b-4b4d-43be-a31f-e959047444d5",
   "metadata": {},
   "source": [
    "# Summary of Mortality Rates for various Medical Procedures in Californian Hospitals\n",
    "\n",
    "Spring 2025 Data Science Project\n",
    "\n",
    "Franciszek Pajak, Aashrit Sabbani, Achyutha Duddebanda\n",
    "\n",
    "Contributions:\n",
    "For each member, list which of the following sections they worked on, and\n",
    "summarize the contributions in 1-2 sentences. Be specific!\n",
    "\n",
    "\n",
    "## Introduction\n",
    "Heart disease is the most common and mortal disease in the United States, claiming over \n",
    "\n",
    "\n",
    "\n",
    "\n",
    "\n",
    "\n",
    "A: Project idea\n",
    "\n",
    "B: Dataset Curation and Preprocessing\n",
    "\n",
    "C: Data Exploration and Summary Statistics\n",
    "\n",
    "D: ML Algorithm Design/Development\n",
    "\n",
    "E: ML Algorithm Training and Test Data Analysis\n",
    "\n",
    "F: Visualization, Result Analysis, Conclusion\n",
    "\n",
    "G: Final Tutorial Report Creation\n",
    "\n",
    "H: Additional (not listed above)"
   ]
  },
  {
   "cell_type": "code",
   "execution_count": null,
   "id": "1ee260ad-28e7-4edb-bb79-772aa1709bb2",
   "metadata": {},
   "outputs": [],
   "source": []
  }
 ],
 "metadata": {
  "kernelspec": {
   "display_name": "Python 3 (ipykernel)",
   "language": "python",
   "name": "python3"
  },
  "language_info": {
   "codemirror_mode": {
    "name": "ipython",
    "version": 3
   },
   "file_extension": ".py",
   "mimetype": "text/x-python",
   "name": "python",
   "nbconvert_exporter": "python",
   "pygments_lexer": "ipython3",
   "version": "3.10.12"
  }
 },
 "nbformat": 4,
 "nbformat_minor": 5
}
