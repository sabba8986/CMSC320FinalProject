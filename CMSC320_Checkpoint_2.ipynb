{
 "cells": [
  {
   "cell_type": "code",
   "execution_count": 2,
   "id": "fe93c4e0",
   "metadata": {},
   "outputs": [
    {
     "data": {
      "text/html": [
       "<div>\n",
       "<style scoped>\n",
       "    .dataframe tbody tr th:only-of-type {\n",
       "        vertical-align: middle;\n",
       "    }\n",
       "\n",
       "    .dataframe tbody tr th {\n",
       "        vertical-align: top;\n",
       "    }\n",
       "\n",
       "    .dataframe thead th {\n",
       "        text-align: right;\n",
       "    }\n",
       "</style>\n",
       "<table border=\"1\" class=\"dataframe\">\n",
       "  <thead>\n",
       "    <tr style=\"text-align: right;\">\n",
       "      <th></th>\n",
       "      <th>YEAR</th>\n",
       "      <th>COUNTY</th>\n",
       "      <th>HOSPITAL</th>\n",
       "      <th>OSHPDID</th>\n",
       "      <th>Procedure/Condition</th>\n",
       "      <th>Risk Adjusted Mortality Rate</th>\n",
       "      <th># of Deaths</th>\n",
       "      <th># of Cases</th>\n",
       "      <th>Hospital Ratings</th>\n",
       "      <th>LONGITUDE</th>\n",
       "      <th>LATITUDE</th>\n",
       "    </tr>\n",
       "  </thead>\n",
       "  <tbody>\n",
       "    <tr>\n",
       "      <th>0</th>\n",
       "      <td>2016</td>\n",
       "      <td>AAAA</td>\n",
       "      <td>STATEWIDE</td>\n",
       "      <td>None</td>\n",
       "      <td>AAA Repair Unruptured</td>\n",
       "      <td>1.3</td>\n",
       "      <td>30</td>\n",
       "      <td>2358</td>\n",
       "      <td>None</td>\n",
       "      <td>None</td>\n",
       "      <td>None</td>\n",
       "    </tr>\n",
       "    <tr>\n",
       "      <th>1</th>\n",
       "      <td>2016</td>\n",
       "      <td>AAAA</td>\n",
       "      <td>STATEWIDE</td>\n",
       "      <td>None</td>\n",
       "      <td>AMI</td>\n",
       "      <td>6.1</td>\n",
       "      <td>3178</td>\n",
       "      <td>52167</td>\n",
       "      <td>None</td>\n",
       "      <td>None</td>\n",
       "      <td>None</td>\n",
       "    </tr>\n",
       "    <tr>\n",
       "      <th>2</th>\n",
       "      <td>2016</td>\n",
       "      <td>AAAA</td>\n",
       "      <td>STATEWIDE</td>\n",
       "      <td>None</td>\n",
       "      <td>Acute Stroke</td>\n",
       "      <td>9.1</td>\n",
       "      <td>5482</td>\n",
       "      <td>60184</td>\n",
       "      <td>None</td>\n",
       "      <td>None</td>\n",
       "      <td>None</td>\n",
       "    </tr>\n",
       "    <tr>\n",
       "      <th>3</th>\n",
       "      <td>2016</td>\n",
       "      <td>AAAA</td>\n",
       "      <td>STATEWIDE</td>\n",
       "      <td>None</td>\n",
       "      <td>Acute Stroke Hemorrhagic</td>\n",
       "      <td>21.1</td>\n",
       "      <td>2580</td>\n",
       "      <td>12210</td>\n",
       "      <td>None</td>\n",
       "      <td>None</td>\n",
       "      <td>None</td>\n",
       "    </tr>\n",
       "    <tr>\n",
       "      <th>4</th>\n",
       "      <td>2016</td>\n",
       "      <td>AAAA</td>\n",
       "      <td>STATEWIDE</td>\n",
       "      <td>None</td>\n",
       "      <td>Acute Stroke Ischemic</td>\n",
       "      <td>5</td>\n",
       "      <td>2258</td>\n",
       "      <td>45141</td>\n",
       "      <td>None</td>\n",
       "      <td>None</td>\n",
       "      <td>None</td>\n",
       "    </tr>\n",
       "    <tr>\n",
       "      <th>...</th>\n",
       "      <td>...</td>\n",
       "      <td>...</td>\n",
       "      <td>...</td>\n",
       "      <td>...</td>\n",
       "      <td>...</td>\n",
       "      <td>...</td>\n",
       "      <td>...</td>\n",
       "      <td>...</td>\n",
       "      <td>...</td>\n",
       "      <td>...</td>\n",
       "      <td>...</td>\n",
       "    </tr>\n",
       "    <tr>\n",
       "      <th>57649</th>\n",
       "      <td>2022</td>\n",
       "      <td>Yuba</td>\n",
       "      <td>Adventist Health and Rideout</td>\n",
       "      <td>106580996</td>\n",
       "      <td>Heart Failure</td>\n",
       "      <td>3.6</td>\n",
       "      <td>23</td>\n",
       "      <td>712</td>\n",
       "      <td>As Expected</td>\n",
       "      <td>-121.593602</td>\n",
       "      <td>39.138805</td>\n",
       "    </tr>\n",
       "    <tr>\n",
       "      <th>57650</th>\n",
       "      <td>2022</td>\n",
       "      <td>Yuba</td>\n",
       "      <td>Adventist Health and Rideout</td>\n",
       "      <td>106580996</td>\n",
       "      <td>Hip Fracture</td>\n",
       "      <td>4</td>\n",
       "      <td>6</td>\n",
       "      <td>167</td>\n",
       "      <td>As Expected</td>\n",
       "      <td>-121.593602</td>\n",
       "      <td>39.138805</td>\n",
       "    </tr>\n",
       "    <tr>\n",
       "      <th>57651</th>\n",
       "      <td>2022</td>\n",
       "      <td>Yuba</td>\n",
       "      <td>Adventist Health and Rideout</td>\n",
       "      <td>106580996</td>\n",
       "      <td>PCI</td>\n",
       "      <td>4.3</td>\n",
       "      <td>7</td>\n",
       "      <td>146</td>\n",
       "      <td>As Expected</td>\n",
       "      <td>-121.593602</td>\n",
       "      <td>39.138805</td>\n",
       "    </tr>\n",
       "    <tr>\n",
       "      <th>57652</th>\n",
       "      <td>2022</td>\n",
       "      <td>Yuba</td>\n",
       "      <td>Adventist Health and Rideout</td>\n",
       "      <td>106580996</td>\n",
       "      <td>Pancreatic Resection</td>\n",
       "      <td>NaN</td>\n",
       "      <td>NaN</td>\n",
       "      <td>NaN</td>\n",
       "      <td>NaN</td>\n",
       "      <td>-121.593602</td>\n",
       "      <td>39.138805</td>\n",
       "    </tr>\n",
       "    <tr>\n",
       "      <th>57653</th>\n",
       "      <td>2022</td>\n",
       "      <td>Yuba</td>\n",
       "      <td>Adventist Health and Rideout</td>\n",
       "      <td>106580996</td>\n",
       "      <td>Pneumonia</td>\n",
       "      <td>11.9</td>\n",
       "      <td>46</td>\n",
       "      <td>470</td>\n",
       "      <td>Worse</td>\n",
       "      <td>-121.593602</td>\n",
       "      <td>39.138805</td>\n",
       "    </tr>\n",
       "  </tbody>\n",
       "</table>\n",
       "<p>57654 rows × 11 columns</p>\n",
       "</div>"
      ],
      "text/plain": [
       "       YEAR COUNTY                      HOSPITAL    OSHPDID  \\\n",
       "0      2016   AAAA                     STATEWIDE       None   \n",
       "1      2016   AAAA                     STATEWIDE       None   \n",
       "2      2016   AAAA                     STATEWIDE       None   \n",
       "3      2016   AAAA                     STATEWIDE       None   \n",
       "4      2016   AAAA                     STATEWIDE       None   \n",
       "...     ...    ...                           ...        ...   \n",
       "57649  2022   Yuba  Adventist Health and Rideout  106580996   \n",
       "57650  2022   Yuba  Adventist Health and Rideout  106580996   \n",
       "57651  2022   Yuba  Adventist Health and Rideout  106580996   \n",
       "57652  2022   Yuba  Adventist Health and Rideout  106580996   \n",
       "57653  2022   Yuba  Adventist Health and Rideout  106580996   \n",
       "\n",
       "            Procedure/Condition Risk Adjusted Mortality Rate # of Deaths  \\\n",
       "0         AAA Repair Unruptured                          1.3          30   \n",
       "1                           AMI                          6.1        3178   \n",
       "2                  Acute Stroke                          9.1        5482   \n",
       "3      Acute Stroke Hemorrhagic                         21.1        2580   \n",
       "4         Acute Stroke Ischemic                            5        2258   \n",
       "...                         ...                          ...         ...   \n",
       "57649             Heart Failure                          3.6          23   \n",
       "57650              Hip Fracture                            4           6   \n",
       "57651                       PCI                          4.3           7   \n",
       "57652      Pancreatic Resection                          NaN         NaN   \n",
       "57653                 Pneumonia                         11.9          46   \n",
       "\n",
       "      # of Cases Hospital Ratings    LONGITUDE   LATITUDE  \n",
       "0           2358             None         None       None  \n",
       "1          52167             None         None       None  \n",
       "2          60184             None         None       None  \n",
       "3          12210             None         None       None  \n",
       "4          45141             None         None       None  \n",
       "...          ...              ...          ...        ...  \n",
       "57649        712      As Expected  -121.593602  39.138805  \n",
       "57650        167      As Expected  -121.593602  39.138805  \n",
       "57651        146      As Expected  -121.593602  39.138805  \n",
       "57652        NaN              NaN  -121.593602  39.138805  \n",
       "57653        470            Worse  -121.593602  39.138805  \n",
       "\n",
       "[57654 rows x 11 columns]"
      ]
     },
     "execution_count": 2,
     "metadata": {},
     "output_type": "execute_result"
    }
   ],
   "source": [
    "import pandas as pd\n",
    "\n",
    "df = pd.read_csv(\"CMSC320_FinalProj_Database.csv\")\n",
    "df"
   ]
  },
  {
   "cell_type": "code",
   "execution_count": 3,
   "id": "2ba73079",
   "metadata": {},
   "outputs": [
    {
     "data": {
      "text/plain": [
       "(57654, 11)"
      ]
     },
     "execution_count": 3,
     "metadata": {},
     "output_type": "execute_result"
    }
   ],
   "source": [
    "df.shape"
   ]
  },
  {
   "cell_type": "code",
   "execution_count": 50,
   "id": "e6ff60df",
   "metadata": {},
   "outputs": [
    {
     "name": "stdout",
     "output_type": "stream",
     "text": [
      "Empty DataFrame\n",
      "Columns: [YEAR, COUNTY, HOSPITAL, OSHPDID, Procedure/Condition, Risk Adjusted Mortality Rate, # of Deaths, # of Cases, Hospital Ratings, LONGITUDE, LATITUDE]\n",
      "Index: []\n"
     ]
    }
   ],
   "source": [
    "df['# of Deaths'] = pd.to_numeric(df['# of Deaths'], errors='coerce') # Converts invalid values to NaN\n",
    "df['Risk Adjusted Mortality Rate'] = pd.to_numeric(df['# of Deaths'], errors='coerce').fillna(10).astype(int)\n",
    "nan_deaths = df[df['# of Deaths'].isna()]\n",
    "print(nan_deaths)"
   ]
  },
  {
   "cell_type": "code",
   "execution_count": 52,
   "id": "045b8d2b",
   "metadata": {},
   "outputs": [
    {
     "data": {
      "text/plain": [
       "STATEWIDE                           180\n",
       "Memorial Hospital of Gardena        180\n",
       "Palmdale Regional Medical Center    180\n",
       "Madera Community Hospital           180\n",
       "San Mateo Medical Center            180\n",
       "Name: HOSPITAL, dtype: int64"
      ]
     },
     "execution_count": 52,
     "metadata": {},
     "output_type": "execute_result"
    }
   ],
   "source": [
    "df['HOSPITAL'].value_counts().head()"
   ]
  },
  {
   "cell_type": "code",
   "execution_count": 41,
   "id": "3c3a306c",
   "metadata": {},
   "outputs": [
    {
     "name": "stdout",
     "output_type": "stream",
     "text": [
      "9.758750476983383\n",
      "18.58287795992714\n"
     ]
    }
   ],
   "source": [
    "print(df['# of Deaths'].mean()) # overall deaths avg\n",
    "print(df[df['Procedure/Condition']=='Heart Failure']['# of Deaths'].mean()) # Find the mean death rate of the \"Heart Failure\" procedure"
   ]
  },
  {
   "cell_type": "markdown",
   "id": "2d846eec",
   "metadata": {},
   "source": [
    "We want to find whether the total number of inpatient deaths in California's hospitals caused by a \"Heart Failure\" procedure is the same as the overall mean death rate for all procedures with $\\alpha = 0.05$.\n",
    "$ \\\\ H_0: \\mu = 10$\n",
    "$ \\\\ H_a: \\mu > 10$"
   ]
  },
  {
   "cell_type": "code",
   "execution_count": 51,
   "id": "e7d10abd",
   "metadata": {},
   "outputs": [
    {
     "name": "stdout",
     "output_type": "stream",
     "text": [
      "P-value: 0.0006872618407070447\n"
     ]
    }
   ],
   "source": [
    "from scipy import stats\n",
    "deaths = df[df['Procedure/Condition']=='Heart Failure']['# of Deaths']\n",
    "\n",
    "# Hypothesis\n",
    "pop_mean = 10\n",
    "\n",
    "t_statistic, p_value = stats.ttest_1samp(a=deaths, popmean=pop_mean, alternative='greater')\n",
    "print(\"P-value:\", p_value)"
   ]
  },
  {
   "cell_type": "markdown",
   "id": "ec2368c3",
   "metadata": {},
   "source": [
    "Since $p \\approx 0.0007 < 0.05$, we reject $H_0$ and claim that the total number of inpatient deaths in California's hospitals caused by a \"Heart Failure\" procedure is significantly greater than the overall average of deaths ($10$)."
   ]
  },
  {
   "cell_type": "code",
   "execution_count": null,
   "id": "990f3f8d",
   "metadata": {},
   "outputs": [],
   "source": []
  }
 ],
 "metadata": {
  "kernelspec": {
   "display_name": "Python 3 (ipykernel)",
   "language": "python",
   "name": "python3"
  },
  "language_info": {
   "codemirror_mode": {
    "name": "ipython",
    "version": 3
   },
   "file_extension": ".py",
   "mimetype": "text/x-python",
   "name": "python",
   "nbconvert_exporter": "python",
   "pygments_lexer": "ipython3",
   "version": "3.9.13"
  }
 },
 "nbformat": 4,
 "nbformat_minor": 5
}
